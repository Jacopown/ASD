{
 "cells": [
  {
   "cell_type": "markdown",
   "id": "298b6aa8-e53d-421c-a2f5-8fbfbdc02e89",
   "metadata": {},
   "source": [
    "# Confronto tra algoritmi di ordinamento Insertion sort e Quick sort"
   ]
  },
  {
   "cell_type": "markdown",
   "id": "9eea5e63-c5be-480d-898b-a8a6e8f26890",
   "metadata": {},
   "source": [
    "Importiamo le librerie necessarie alle nostre prove:\n",
    "- **random** per la generazione dei dataset\n",
    "- **time** per il calcolo dei tempi di esecuzione (utilizzando perf_counter_ns tutti i tempi che registreremo saranno in nanosecondi, riducendo così l'errore dato dalla precisione dei float)\n",
    "- **matplotlib** e **pandas** per la rappresentazione di grafici e tabelle\n",
    "- **numpy** per la maggiore efficienza dei suoi array rispetto a quelli di python\n",
    "- **math** per alcune funzioni matematice"
   ]
  },
  {
   "cell_type": "code",
   "execution_count": 45,
   "id": "bbfd5867-080e-4b98-8131-08fffd968ef9",
   "metadata": {},
   "outputs": [],
   "source": [
    "import random\n",
    "from time import perf_counter_ns as timer\n",
    "import matplotlib.pyplot as plt\n",
    "import pandas as pd\n",
    "import numpy as np\n",
    "import math"
   ]
  },
  {
   "cell_type": "markdown",
   "id": "5b9e9dec-8c41-4d91-b35a-cfab3e831ed4",
   "metadata": {
    "jp-MarkdownHeadingCollapsed": true
   },
   "source": [
    "## Datasets\n",
    "Scriviamo prima di tutto le funzioni che generano i dataset su cui eseguiremo i test, questo ci permettera già da subito di testare l'andamento previsto dei nostri algoritmi e in seguito di confrontarne le prestazioni in casi differenti. \n",
    "\n",
    "La prima funzione genera un dataset completamente casuale. \n",
    "\n",
    "Indichiamo con la variabile `tests` quanti test vogliamo eseguire, con la variabile `times` indichiamo quante volte vogliamo eseguire ogni tipo di test e con l'array `dim` la quantità di interi che ogni tipo di test dovrà avere.\n",
    "Ogni array di test conterrà interi generati casualmente compresi tra 0 e la dimensione del array del test per il quale stiamo generando il dataset, in modo tale che possano verificarsi delle ripetizioni, così da tenere in considerazione anche questa casistica.\n",
    "L'array `dim` viene ardinato al fine della visualizzazione nei grafici, in caso non fossero stati inseriti in ordine crescente."
   ]
  },
  {
   "cell_type": "code",
   "execution_count": 2,
   "id": "c83f8f28-e8b7-4863-a943-bb84cdccb636",
   "metadata": {},
   "outputs": [],
   "source": [
    "def generate_random_dataset(tests, times, dim):\n",
    "    if tests != len(dim):\n",
    "        raise ValueError('La dimenzione del array dim deve combaciare con il numero di test da eseguire indicati dalla variabile tests')\n",
    "    dim = np.sort(dim)\n",
    "    random_dataset = []\n",
    "    for i in range(tests):\n",
    "        test = np.array([[random.randint(0, dim[i]) for _ in range(dim[i])] for _ in range(times)])\n",
    "        random_dataset.append(test)\n",
    "    return random_dataset"
   ]
  },
  {
   "cell_type": "markdown",
   "id": "7da9b665-1aa4-4700-b2f5-fd6d8d09e819",
   "metadata": {},
   "source": [
    "Se per esempio vogliamo eseguire 2 test (`tests = 2`), uno con array di 2 interi e uno con array di 4 interi (`dim = [2, 4]`) e ogni tipologia di test vogliamo che venga eseguita 3 volte (`times = 3`), scriviamo il seguente codice:"
   ]
  },
  {
   "cell_type": "code",
   "execution_count": 3,
   "id": "305f2b5b-9aa0-4ad6-a69b-b9df6f8c395e",
   "metadata": {},
   "outputs": [
    {
     "name": "stdout",
     "output_type": "stream",
     "text": [
      "[[0 1]\n",
      " [2 0]\n",
      " [2 0]]\n",
      "[[0 4 3 4]\n",
      " [1 4 0 3]\n",
      " [0 1 0 3]]\n"
     ]
    }
   ],
   "source": [
    "test_dataset = generate_random_dataset(2, 3, [2, 4])\n",
    "for i in test_dataset: print(i)"
   ]
  },
  {
   "cell_type": "markdown",
   "id": "a64de40b-af41-46a1-a9e6-5f55b9f1a140",
   "metadata": {},
   "source": [
    "La seconda funzione è identica alla prima, con l'unica differenza che genererà array di numeri unici, quindi elimina completamente l'occorrenza di ripetizioni."
   ]
  },
  {
   "cell_type": "code",
   "execution_count": 4,
   "id": "abd2e1c7-64db-480e-9caf-c299706caafb",
   "metadata": {},
   "outputs": [],
   "source": [
    "def generate_unique_dataset(tests, times, dim):\n",
    "    if tests != len(dim):\n",
    "        raise ValueError('La dimenzione del array dim deve combaciare con il numero di test da eseguire indicati dalla variabile tests')\n",
    "    dim = np.sort(dim)\n",
    "    random_dataset = []\n",
    "    for i in range(tests):\n",
    "        test = np.array([np.random.choice(np.arange(0, dim[i]), size=dim[i], replace=False) for _ in range(times)])\n",
    "        random_dataset.append(test)\n",
    "    return random_dataset"
   ]
  },
  {
   "cell_type": "markdown",
   "id": "e9c723da-44e9-449e-93ea-ab4a6b5501b6",
   "metadata": {
    "jp-MarkdownHeadingCollapsed": true
   },
   "source": [
    "## Insertion sort\n",
    "L'algoritmo Insertion sort si basa sulla tecnica di riordinamento delle carte da gioco generalmente usata dal essere umano. Si parte con un array, si prende il secondo elemento e si confronta con il primo e si decide se posizionarlo prima o dopo, se minore o maggiore. Si prosegue con confrontando il terzo elemento e posizionandolo nella posizione giusta relativamente hai primi due già ordinati e si prosegue così finché l'intero array non è ordinato. Abbiamo così che in qualsiasi momento tutti gli elementi del array alla sinistra del elemento che stiamo considerando saranno ordinati mentre tutti gli elementi a destra saranno ancora da ordinare. "
   ]
  },
  {
   "cell_type": "code",
   "execution_count": 5,
   "id": "8f769797-0f15-4319-b344-88635c877196",
   "metadata": {},
   "outputs": [],
   "source": [
    "def insertionSort(A):   \n",
    "   for j in range(1, len(A)):  \n",
    "       key = A[j]  \n",
    "       i = j - 1  \n",
    "       while i >= 0 and  A[i] > key:  \n",
    "           A[i + 1] = A[i]  \n",
    "           i -= 1  \n",
    "       A[i + 1] = key\n"
   ]
  },
  {
   "cell_type": "markdown",
   "id": "37ed22ad-58be-4ba1-95fc-6e62c77b48a9",
   "metadata": {
    "jp-MarkdownHeadingCollapsed": true
   },
   "source": [
    "## Quicksort\n",
    "L'algoritmo Quicksort si basa sul paradigma del divide et impera. L'idea dietro questo algoritmo è quella di dividere un generico array `A[p,...,r]` in due sottoarray `A[p,...,q-1]` e `A[q+1,...,r]` in modo tale che ogni elemento di `A[p,...,q-1]` sia minore o uguale a `A[q]` e che ogni elemento di `A[q+1,...,r]` sia maggiore di `A[q]`. Eseguendo ricorsivamente questo passaggio di partizione per ogni sottoarray ci porta a terminare l'algoritmo con l'array ordinato."
   ]
  },
  {
   "cell_type": "code",
   "execution_count": 6,
   "id": "be98ed79-dc12-4801-8530-b4a4e8921d02",
   "metadata": {},
   "outputs": [],
   "source": [
    "def partition(A, p, r):\n",
    "\tx = A[r]\n",
    "\ti = p - 1\n",
    "\tfor j in range(p, r):\n",
    "\t\tif A[j] <= x:\n",
    "\t\t\ti += 1\n",
    "\t\t\t(A[i], A[j]) = (A[j], A[i])\n",
    "\t(A[i + 1], A[r]) = (A[r], A[i + 1])\n",
    "\treturn i + 1\n",
    "\n",
    "def quickSort(A, p, r):\n",
    "\tif p < r:\n",
    "\t\tq = partition(A, p, r)\n",
    "\t\tquickSort(A, p, q - 1)\n",
    "\t\tquickSort(A, q + 1, r)"
   ]
  },
  {
   "cell_type": "markdown",
   "id": "b5ce6aa1-ee10-43e5-9cf8-c2d33782ace5",
   "metadata": {},
   "source": [
    "A questa implementazione è possibile inoltre applicare una semplice modifica per ridurre il verificarsi dei casi peggiori migliorandone ulteriormente le prestazioini. Si tratta della scelta causale del pivot, anziche usare sempre `x=A[r]` utilizzeremo un elemento scelto casualemnte dal sottoarray `A[p,...,r]`."
   ]
  },
  {
   "cell_type": "code",
   "execution_count": 7,
   "id": "bea7780e-844c-4a10-8099-a8e6cae7aa80",
   "metadata": {},
   "outputs": [],
   "source": [
    "def randomized_partition(A, p, r):\n",
    "    x = random.randint(p, r)\n",
    "    (A[r], A[x]) = (A[x], A[r])\n",
    "    i = p - 1\n",
    "    for j in range(p, r):\n",
    "        if A[j] <= A[r]:\n",
    "            i += 1\n",
    "            (A[i], A[j]) = (A[j], A[i])\n",
    "    (A[i + 1], A[r]) = (A[r], A[i + 1])\n",
    "    return i + 1\n",
    "    \n",
    "def randomized_quickSort(A, p, r):\n",
    "\tif p < r:\n",
    "\t\tq = randomized_partition(A, p, r)\n",
    "\t\trandomized_quickSort(A, p, q - 1)\n",
    "\t\trandomized_quickSort(A, q + 1, r)"
   ]
  },
  {
   "cell_type": "markdown",
   "id": "74c8ef1b-172e-4f6f-8c60-f80ef006e986",
   "metadata": {
    "jp-MarkdownHeadingCollapsed": true
   },
   "source": [
    "## Benchmarks\n",
    "Scriviamo ora le funzioni che eseguiranno i test. Questa funzione esegue l'algoritmo su ogni array del dataset, calcolandone i tempi di esecuzione e facendone una media per ogni tipologia di test. Prima del calcolo della media viene rimosso il tempo più alto per ridurre al minimo l'impatto di eventuali processi in background del sistema host sul valore delle medie."
   ]
  },
  {
   "cell_type": "code",
   "execution_count": 8,
   "id": "97dec7b4-739b-4638-b394-edba83048be1",
   "metadata": {},
   "outputs": [],
   "source": [
    "def benchmark_insertionSort(dataset):\n",
    "    times = []\n",
    "    for i in range(0,len(dataset)):\n",
    "        total_time = 0\n",
    "        max_time = 0\n",
    "        for j in range(0, len(dataset[i])):\n",
    "            start = timer()\n",
    "            insertionSort(dataset[i][j])\n",
    "            end = timer()\n",
    "            time = end-start\n",
    "            if time > max_time: max_time = time\n",
    "            total_time += time\n",
    "        times.append((total_time-max_time)/(len(dataset[i])-1))\n",
    "    return times"
   ]
  },
  {
   "cell_type": "code",
   "execution_count": 9,
   "id": "b7c2846e-c6ee-4ecd-ae17-049f5cc12039",
   "metadata": {},
   "outputs": [],
   "source": [
    "def benchmark_quickSort(dataset):\n",
    "    times = []\n",
    "    for i in range(0,len(dataset)):\n",
    "        total_time = 0\n",
    "        max_time = 0\n",
    "        for j in range(0, len(dataset[i])):\n",
    "            start = timer()\n",
    "            quickSort(dataset[i][j], 0, len(dataset[i][j])-1)\n",
    "            end = timer()\n",
    "            time = end-start\n",
    "            if time > max_time: max_time = time\n",
    "            total_time += time\n",
    "        times.append((total_time-max_time)/(len(dataset[i])-1))\n",
    "    return times"
   ]
  },
  {
   "cell_type": "code",
   "execution_count": 10,
   "id": "ef73087b-3758-4a8a-94d0-ea5ecdea9d9e",
   "metadata": {},
   "outputs": [],
   "source": [
    "def benchmark_randomized_quickSort(dataset):\n",
    "    times = []\n",
    "    for i in range(0,len(dataset)):\n",
    "        total_time = 0\n",
    "        max_time = 0\n",
    "        for j in range(0, len(dataset[i])):\n",
    "            start = timer()\n",
    "            randomized_quickSort(dataset[i][j], 0, len(dataset[i][j])-1)\n",
    "            end = timer()\n",
    "            time = end-start\n",
    "            if time > max_time: max_time = time\n",
    "            total_time += time\n",
    "        times.append((total_time-max_time)/(len(dataset[i])-1))\n",
    "    return times"
   ]
  },
  {
   "cell_type": "markdown",
   "id": "23b041af-3e5e-445e-842d-5a96a1d31ec6",
   "metadata": {},
   "source": [
    "## Tempo di esecuzione previsto per Quicksort\n",
    "Il tempo di esecuzione previsto per il Quicksort per un array di $n$ elementi è $\\varTheta(n lg n)$ nel caso medio, mentre $\\varTheta(n^2)$ nel caso peggiore.\n",
    "Abbiamo visto inoltre che tramite il randomized quicksort è possibile ridurre la probabilità di incappare nei peggiori casi, mantenendo però gli stessi tempi di esecuzione nel caso medio e nel caso peggiore in caso si presentasse."
   ]
  },
  {
   "cell_type": "markdown",
   "id": "f6d55ca4-d26c-42f7-93b7-a90992955197",
   "metadata": {},
   "source": [
    "### Verifica sperimentale dei tempi di esecuzione di Quicksort e Randomized Quicksort nel caso medio "
   ]
  },
  {
   "cell_type": "code",
   "execution_count": 11,
   "id": "516c948c-fbea-4ae4-aa23-2248380efa27",
   "metadata": {},
   "outputs": [],
   "source": [
    "dim = [1000, 2000, 3000, 4000, 5000]"
   ]
  },
  {
   "cell_type": "code",
   "execution_count": 12,
   "id": "0f09fb81-0467-461f-a0c5-6296cd43ce79",
   "metadata": {},
   "outputs": [],
   "source": [
    "quickSort_dataset = generate_random_dataset(len(dim), 100, dim)"
   ]
  },
  {
   "cell_type": "code",
   "execution_count": 13,
   "id": "a5189a7f-b547-47f2-b6fc-eefaebc6ad2b",
   "metadata": {},
   "outputs": [],
   "source": [
    "random_quickSort_dataset = [[x.copy() for x in quickSort_dataset[i]] for i in range(len(quickSort_dataset))]"
   ]
  },
  {
   "cell_type": "code",
   "execution_count": 14,
   "id": "1d6e0aba-e02e-4645-9187-8b581f7632ae",
   "metadata": {
    "jupyter": {
     "source_hidden": true
    }
   },
   "outputs": [],
   "source": [
    "nlgn = np.array([dim[i]*math.log(dim[i],2)*150 for i in range(0, len(dim))])"
   ]
  },
  {
   "cell_type": "code",
   "execution_count": 15,
   "id": "4d3fce9f-de50-4136-a9e1-fa66487cdc17",
   "metadata": {},
   "outputs": [],
   "source": [
    "nquadro = np.array([dim[i]**2*50 for i in range(0, len(dim))])"
   ]
  },
  {
   "cell_type": "code",
   "execution_count": 16,
   "id": "34fc9180-9b9f-42e0-b202-68c58977d483",
   "metadata": {},
   "outputs": [],
   "source": [
    "quickSort_times = benchmark_quickSort(quickSort_dataset)"
   ]
  },
  {
   "cell_type": "code",
   "execution_count": 17,
   "id": "79e2ce61-7c7b-4ba8-a514-c2b67c60ee96",
   "metadata": {},
   "outputs": [],
   "source": [
    "randomized_quickSort_times = benchmark_randomized_quickSort(random_quickSort_dataset)"
   ]
  },
  {
   "cell_type": "code",
   "execution_count": 18,
   "id": "478a4537-80fb-4467-b0e6-4263bcf7fca6",
   "metadata": {},
   "outputs": [
    {
     "data": {
      "image/png": "[encoded data removed]",
      "text/plain": [
       "<Figure size 700x700 with 1 Axes>"
      ]
     },
     "metadata": {},
     "output_type": "display_data"
    }
   ],
   "source": [
    "plt.figure(num = 3, figsize=(7, 7))\n",
    "plt.plot( dim, quickSort_times, label='quicksort')\n",
    "plt.plot( dim, randomized_quickSort_times, label='randomized quicksort')\n",
    "plt.plot( dim, nlgn, label='n lg n')\n",
    "plt.legend(loc=\"upper left\")\n",
    "plt.show()"
   ]
  },
  {
   "cell_type": "markdown",
   "id": "5746ee2a-5ba6-42fc-b90c-0e0d590986ef",
   "metadata": {},
   "source": [
    "### Verifica sperimentale dei tempi di esecuzione di Quicksort e Randomized Quicksort nel caso peggiore"
   ]
  },
  {
   "cell_type": "code",
   "execution_count": 39,
   "id": "bd7f5317-b750-4c63-b8c0-6e8da3f24358",
   "metadata": {},
   "outputs": [],
   "source": [
    "dim = [1000, 1100, 1200, 1300, 1400, 1500]"
   ]
  },
  {
   "cell_type": "code",
   "execution_count": 40,
   "id": "4614c81f-2f74-431d-88d5-355a06241f44",
   "metadata": {},
   "outputs": [],
   "source": [
    "worst_case_quicksort_dataset = generate_unique_dataset(len(dim), 100, dim)\n",
    "for i in worst_case_quicksort_dataset:\n",
    "    for j in i:\n",
    "        j[::-1].sort()\n",
    "worst_case_randomized_quicksort_dataset = [ [x.copy() for x in worst_case_quicksort_dataset[i]] for i in range(len(worst_case_quicksort_dataset)) ]"
   ]
  },
  {
   "cell_type": "code",
   "execution_count": 41,
   "id": "4d823dc8-9e29-4e88-8e49-5320f15bd29c",
   "metadata": {},
   "outputs": [],
   "source": [
    "worst_case_quickSort_times = benchmark_quickSort(worst_case_quicksort_dataset)"
   ]
  },
  {
   "cell_type": "code",
   "execution_count": 42,
   "id": "f1934d24-c3f7-4587-b378-14b5bd838645",
   "metadata": {},
   "outputs": [],
   "source": [
    "worst_case_randomized_quickSort_times = benchmark_randomized_quickSort(worst_case_randomized_quicksort_dataset)"
   ]
  },
  {
   "cell_type": "code",
   "execution_count": 43,
   "id": "e7a1255d-5f46-42d1-8119-eb4565729f81",
   "metadata": {},
   "outputs": [
    {
     "data": {
      "image/png": "[encoded data removed]",
      "text/plain": [
       "<Figure size 700x700 with 1 Axes>"
      ]
     },
     "metadata": {},
     "output_type": "display_data"
    }
   ],
   "source": [
    "plt.figure(num = 3, figsize=(7, 7))\n",
    "plt.plot( dim, worst_case_quickSort_times, label='quicksort')\n",
    "plt.plot( dim, worst_case_randomized_quickSort_times, label='randomized quicksort')\n",
    "plt.legend(loc=\"upper left\")\n",
    "plt.show()"
   ]
  },
  {
   "cell_type": "code",
   "execution_count": 46,
   "id": "7c89911d-c194-46f2-ad24-4f5971d85a6f",
   "metadata": {},
   "outputs": [
    {
     "data": {
      "text/html": [
       "<div>\n",
       "<style scoped>\n",
       "    .dataframe tbody tr th:only-of-type {\n",
       "        vertical-align: middle;\n",
       "    }\n",
       "\n",
       "    .dataframe tbody tr th {\n",
       "        vertical-align: top;\n",
       "    }\n",
       "\n",
       "    .dataframe thead th {\n",
       "        text-align: right;\n",
       "    }\n",
       "</style>\n",
       "<table border=\"1\" class=\"dataframe\">\n",
       "  <thead>\n",
       "    <tr style=\"text-align: right;\">\n",
       "      <th></th>\n",
       "      <th>n</th>\n",
       "      <th>Quicksort</th>\n",
       "      <th>Randomized Quicksort</th>\n",
       "    </tr>\n",
       "  </thead>\n",
       "  <tbody>\n",
       "    <tr>\n",
       "      <th>0</th>\n",
       "      <td>1000</td>\n",
       "      <td>7.191808e+07</td>\n",
       "      <td>2.676192e+06</td>\n",
       "    </tr>\n",
       "    <tr>\n",
       "      <th>1</th>\n",
       "      <td>1100</td>\n",
       "      <td>8.619402e+07</td>\n",
       "      <td>2.977256e+06</td>\n",
       "    </tr>\n",
       "    <tr>\n",
       "      <th>2</th>\n",
       "      <td>1200</td>\n",
       "      <td>1.020495e+08</td>\n",
       "      <td>3.304509e+06</td>\n",
       "    </tr>\n",
       "    <tr>\n",
       "      <th>3</th>\n",
       "      <td>1300</td>\n",
       "      <td>1.182638e+08</td>\n",
       "      <td>3.594953e+06</td>\n",
       "    </tr>\n",
       "    <tr>\n",
       "      <th>4</th>\n",
       "      <td>1400</td>\n",
       "      <td>1.375508e+08</td>\n",
       "      <td>3.968173e+06</td>\n",
       "    </tr>\n",
       "    <tr>\n",
       "      <th>5</th>\n",
       "      <td>1500</td>\n",
       "      <td>1.587446e+08</td>\n",
       "      <td>4.243668e+06</td>\n",
       "    </tr>\n",
       "  </tbody>\n",
       "</table>\n",
       "</div>"
      ],
      "text/plain": [
       "      n     Quicksort  Randomized Quicksort\n",
       "0  1000  7.191808e+07          2.676192e+06\n",
       "1  1100  8.619402e+07          2.977256e+06\n",
       "2  1200  1.020495e+08          3.304509e+06\n",
       "3  1300  1.182638e+08          3.594953e+06\n",
       "4  1400  1.375508e+08          3.968173e+06\n",
       "5  1500  1.587446e+08          4.243668e+06"
      ]
     },
     "execution_count": 46,
     "metadata": {},
     "output_type": "execute_result"
    }
   ],
   "source": [
    "df = pd.DataFrame(\n",
    "    {\n",
    "        \"n\": dim,\n",
    "        \"Quicksort\": worst_case_quickSort_times,\n",
    "        \"Randomized Quicksort\": worst_case_randomized_quickSort_times,\n",
    "    }\n",
    ")\n",
    "df"
   ]
  },
  {
   "cell_type": "markdown",
   "id": "3fd86ab0-2819-4372-ae75-4f92b01f6bea",
   "metadata": {},
   "source": [
    "## Tempo di esecuzione previsto per Insertion sort\n",
    "Il tempo di esecuzione previsto per l'insertion sort per un array di $n$ elementi è $\\varTheta(n^2)$ sia nel caso medio che nel caso peggiore (array ordinato al contrario) e $\\varTheta(n)$ nel caso ottimo, ossia quello di un array gia' ordinato.\n",
    "La sua semplicita' lo rende molto prestante per $n$ molto piccoli, riuscendo anche a battere quicksort, ma allo stesso tempo inutilizzabile per grandi array data la rapidita' con cui cresce il suo tempo di esecuzione."
   ]
  },
  {
   "cell_type": "code",
   "execution_count": 11,
   "id": "c9567e50-0274-4215-b3aa-fa533196c3b8",
   "metadata": {},
   "outputs": [],
   "source": [
    "dim = [10, 20, 30, 40, 50]"
   ]
  },
  {
   "cell_type": "code",
   "execution_count": 12,
   "id": "bac0782d-f80a-49fa-9710-d3e4d0cff2e5",
   "metadata": {},
   "outputs": [],
   "source": [
    "insertionSort_dataset = generate_random_dataset(len(dim), 100, dim)\n",
    "best_case_insertionSort_dataset = [[x.copy() for x in insertionSort_dataset[i]] for i in range(len(insertionSort_dataset))].sort()\n",
    "worst_case_randomized_quicksort_dataset = [ [x.copy() for x in insertionSort_dataset[i]] for i in range(len(insertionSort_dataset)) ]\n",
    "for i in worst_case_randomized_quicksort_dataset:\n",
    "    for j in i:\n",
    "        j[::-1].sort()"
   ]
  },
  {
   "cell_type": "code",
   "execution_count": 13,
   "id": "83016031-11cf-463b-9871-cf1f5bc5ca1b",
   "metadata": {},
   "outputs": [],
   "source": []
  },
  {
   "cell_type": "code",
   "execution_count": 15,
   "id": "cf78a50d-b19d-44c1-ba0e-a7e2b4905fee",
   "metadata": {},
   "outputs": [],
   "source": [
    "nquadro = np.array([dim[i]**2 for i in range(0, len(dim))])"
   ]
  },
  {
   "cell_type": "code",
   "execution_count": 16,
   "id": "5295983b-145a-406c-9c6c-57933dbba9f6",
   "metadata": {},
   "outputs": [],
   "source": [
    "insertionSort_times = benchmark_insertionSort(insertionSort_dataset)"
   ]
  },
  {
   "cell_type": "code",
   "execution_count": 17,
   "id": "6fcb8e5f-69ea-4753-aae3-47350831c16e",
   "metadata": {},
   "outputs": [],
   "source": [
    "randomized_quickSort_times = benchmark_randomized_quickSort(random_quickSort_dataset)"
   ]
  },
  {
   "cell_type": "code",
   "execution_count": 18,
   "id": "b6a861b2-0f6a-4fa7-ac48-7c46f74dbd9a",
   "metadata": {},
   "outputs": [
    {
     "data": {
      "image/png": "[encoded data removed]",
      "text/plain": [
       "<Figure size 700x700 with 1 Axes>"
      ]
     },
     "metadata": {},
     "output_type": "display_data"
    }
   ],
   "source": [
    "plt.figure(num = 3, figsize=(7, 7))\n",
    "plt.plot( dim, quickSort_times, label='quicksort')\n",
    "plt.plot( dim, randomized_quickSort_times, label='randomized quicksort')\n",
    "plt.plot( dim, nlgn, label='n lg n')\n",
    "plt.legend(loc=\"upper left\")\n",
    "plt.show()"
   ]
  },
  {
   "cell_type": "markdown",
   "id": "9a13f548-2478-4224-86a3-4b5b1e555644",
   "metadata": {},
   "source": [
    "## Grafici per il confronto"
   ]
  },
  {
   "cell_type": "code",
   "execution_count": null,
   "id": "1e6f1896-10bb-4e31-8a48-62f72e25375d",
   "metadata": {},
   "outputs": [],
   "source": [
    "def bar_plot(quicksort_times, insertionsort_times, dim):\n",
    "    times = {'quicksort' : quicksort_times, 'insertionsort' : insertionsort_times}\n",
    "    x = np.arange(len(dim))\n",
    "    width = 0.25\n",
    "    multiplier = 0\n",
    "    fig, ax = plt.subplots(layout='constrained')\n",
    "    for attributo, valore in times.items():\n",
    "        offset = width * multiplier\n",
    "        rects = ax.bar(x+offset, valore, width, label=attributo)\n",
    "        ax.bar_label(rects, padding = 3)\n",
    "        multiplier += 1\n",
    "    ax.set_xticks(x + width, dim)\n",
    "    ax.legend(loc='upper left', ncols=3)\n",
    "    plt.show()"
   ]
  },
  {
   "cell_type": "code",
   "execution_count": null,
   "id": "6b90f51f-0966-4641-a5ef-4ea9bab2ea99",
   "metadata": {},
   "outputs": [],
   "source": [
    "def graph_plot(quicksort_times, insertionsort_times, dim):\n",
    "    plt.figure(num = 3, figsize=(7, 7))\n",
    "    plt.plot( dim, quicksort_times, label='quicksort')\n",
    "    plt.plot( dim, insertionsort_times, label='insertionsort')\n",
    "    plt.legend(loc=\"upper left\")\n",
    "    plt.show()"
   ]
  },
  {
   "cell_type": "markdown",
   "id": "7fbfdc6e-6bf7-4acf-b30f-de3aa136e0af",
   "metadata": {},
   "source": [
    "## Andamento Quicksort"
   ]
  },
  {
   "cell_type": "code",
   "execution_count": null,
   "id": "fc7aca76-cc24-4488-bd32-98dacb54e43d",
   "metadata": {},
   "outputs": [],
   "source": [
    "dim = [1000, 2000, 3000, 4000, 5000]"
   ]
  },
  {
   "cell_type": "code",
   "execution_count": null,
   "id": "31ee2400-6a86-4b5d-9902-e5306f2fb4bb",
   "metadata": {},
   "outputs": [],
   "source": [
    "dataset = generate_unique_dataset(len(dim), 100, dim)"
   ]
  },
  {
   "cell_type": "code",
   "execution_count": null,
   "id": "cb26f583-ef85-4e4d-a3e6-2caf342b4ef1",
   "metadata": {},
   "outputs": [],
   "source": [
    "expected = np.array([dim[i]*math.log(dim[i],2)*250 for i in range(0, len(dim))])"
   ]
  },
  {
   "cell_type": "code",
   "execution_count": null,
   "id": "f85e8013-caa6-4e44-9fe5-2b30ed0ee451",
   "metadata": {},
   "outputs": [],
   "source": [
    "quicksort_times = benchmark_quickSort(dataset)"
   ]
  },
  {
   "cell_type": "code",
   "execution_count": null,
   "id": "576557df-b400-435a-960e-68f2d4ba16db",
   "metadata": {},
   "outputs": [],
   "source": [
    "plt.figure(num = 3, figsize=(7, 7))\n",
    "plt.plot( dim, quicksort_times, label='quicksort')\n",
    "plt.plot( dim, expected, label='nlog(n)')\n",
    "plt.legend(loc=\"upper left\")\n",
    "plt.show()"
   ]
  },
  {
   "cell_type": "markdown",
   "id": "8961b93e-d26a-4154-b496-4bdedd07e07a",
   "metadata": {},
   "source": [
    "## Andamento Insertion sort"
   ]
  },
  {
   "cell_type": "code",
   "execution_count": null,
   "id": "c4817558-3906-437a-bf1a-1af69a8ddeb5",
   "metadata": {},
   "outputs": [],
   "source": [
    "dim = [10, 20, 30, 40, 50]"
   ]
  },
  {
   "cell_type": "code",
   "execution_count": null,
   "id": "4168f17c-b45b-4955-b229-2a279f4f5cef",
   "metadata": {},
   "outputs": [],
   "source": [
    "dataset = generate_unique_dataset(len(dim), 100, dim)"
   ]
  },
  {
   "cell_type": "code",
   "execution_count": null,
   "id": "026d22c8-9aa7-4e55-8604-f5aa9ec455c3",
   "metadata": {},
   "outputs": [],
   "source": [
    "expected = np.array([dim[i]**2*100 for i in range(0, len(dim))])"
   ]
  },
  {
   "cell_type": "code",
   "execution_count": null,
   "id": "999a78fa-e47a-4589-bd63-3e0af6e41674",
   "metadata": {},
   "outputs": [],
   "source": [
    "insertionsort_times = benchmark_insertionSort(dataset)"
   ]
  },
  {
   "cell_type": "code",
   "execution_count": null,
   "id": "02b100a9-4301-4d99-86a8-b1cd2fa0f1ba",
   "metadata": {},
   "outputs": [],
   "source": [
    "plt.figure(num = 3, figsize=(7, 7))\n",
    "plt.plot( dim, insertionsort_times, label='insertionsort')\n",
    "plt.plot( dim, expected, label='n^2')\n",
    "plt.legend(loc=\"upper left\")\n",
    "plt.show()"
   ]
  },
  {
   "cell_type": "markdown",
   "id": "420c8db0-535a-4c2f-a641-0f7836ebaf1a",
   "metadata": {},
   "source": [
    "## Random integers dataset"
   ]
  },
  {
   "cell_type": "code",
   "execution_count": null,
   "id": "0930eb2b-3aa1-4244-88d4-546a4ec05a43",
   "metadata": {},
   "outputs": [],
   "source": [
    "dim = [100, 200, 300, 400]"
   ]
  },
  {
   "cell_type": "code",
   "execution_count": null,
   "id": "04f431ae-2802-49d0-866d-aa13dee0c8de",
   "metadata": {},
   "outputs": [],
   "source": [
    "quicksort_dataset = generate_random_dataset(len(dim), 100, dim)\n",
    "insertionsort_dataset = [ [x.copy() for x in quicksort_dataset[i]] for i in range(len(quicksort_dataset)) ]"
   ]
  },
  {
   "cell_type": "code",
   "execution_count": null,
   "id": "b43f2068-3541-45f4-935f-cb8aeeef6373",
   "metadata": {},
   "outputs": [],
   "source": [
    "quicksort_times = benchmark_quickSort(quicksort_dataset)"
   ]
  },
  {
   "cell_type": "code",
   "execution_count": null,
   "id": "d8aef689-a91b-45f5-b6fa-3da523165992",
   "metadata": {},
   "outputs": [],
   "source": [
    "insertionsort_times = benchmark_insertionSort(insertionsort_dataset)"
   ]
  },
  {
   "cell_type": "code",
   "execution_count": null,
   "id": "b4e8148f-daec-4449-8e83-3dd9d3c545ec",
   "metadata": {},
   "outputs": [],
   "source": [
    "bar_plot(quicksort_times, insertionsort_times, dim)\n",
    "graph_plot(quicksort_times, insertionsort_times, dim)"
   ]
  },
  {
   "cell_type": "markdown",
   "id": "045a49c4-478f-4d47-95b0-6b28279dbcd7",
   "metadata": {},
   "source": [
    "## Unique integers dataset"
   ]
  },
  {
   "cell_type": "code",
   "execution_count": null,
   "id": "c681a8f0-aafd-4de9-8473-7a5430d19b88",
   "metadata": {},
   "outputs": [],
   "source": [
    "quicksort_dataset = generate_unique_dataset(len(dim), 100, dim)\n",
    "insertionsort_dataset = [ [x.copy() for x in quicksort_dataset[i]] for i in range(len(quicksort_dataset)) ]\n",
    "#insertionsort_dataset = quicksort_dataset.copy()"
   ]
  },
  {
   "cell_type": "code",
   "execution_count": null,
   "id": "65f4cf03-8592-4fc0-a762-c6364af84763",
   "metadata": {},
   "outputs": [],
   "source": [
    "quicksort_times = benchmark_quickSort(quicksort_dataset)"
   ]
  },
  {
   "cell_type": "code",
   "execution_count": null,
   "id": "abbf24c9-8fb2-4404-8f84-5e41dd5b1ddf",
   "metadata": {},
   "outputs": [],
   "source": [
    "insertionsort_times = benchmark_insertionSort(insertionsort_dataset)"
   ]
  },
  {
   "cell_type": "code",
   "execution_count": null,
   "id": "d7248877-2c77-46a2-b1f5-dd592fd5a092",
   "metadata": {},
   "outputs": [],
   "source": [
    "bar_plot(quicksort_times, insertionsort_times, dim)\n",
    "graph_plot(quicksort_times, insertionsort_times, dim)"
   ]
  },
  {
   "cell_type": "markdown",
   "id": "6c18674b-682d-484b-b18e-eedb67eee62b",
   "metadata": {},
   "source": [
    "## Caso peggiore (ordine decrescente)"
   ]
  },
  {
   "cell_type": "code",
   "execution_count": null,
   "id": "a298679f-a863-4ecc-934f-f17d9c3a82fe",
   "metadata": {},
   "outputs": [],
   "source": [
    "dim = [5, 10, 20, 50, 100]"
   ]
  },
  {
   "cell_type": "code",
   "execution_count": null,
   "id": "28cabd5f-bb6c-47e0-8aa0-beeeb626a955",
   "metadata": {},
   "outputs": [],
   "source": [
    "quicksort_dataset = generate_unique_dataset(len(dim), 100, dim)\n",
    "for i in quicksort_dataset:\n",
    "    for j in i:\n",
    "        j[::-1].sort()\n",
    "insertionsort_dataset = [ [x.copy() for x in quicksort_dataset[i]] for i in range(len(quicksort_dataset)) ]"
   ]
  },
  {
   "cell_type": "code",
   "execution_count": null,
   "id": "8d511159-dfef-461e-bf23-45729ebaea94",
   "metadata": {},
   "outputs": [],
   "source": [
    "quicksort_times = benchmark_quickSort(quicksort_dataset)"
   ]
  },
  {
   "cell_type": "code",
   "execution_count": null,
   "id": "ecaee461-98fc-44e5-9f7d-714ce364c767",
   "metadata": {},
   "outputs": [],
   "source": [
    "insertionsort_times = benchmark_insertionSort(insertionsort_dataset)"
   ]
  },
  {
   "cell_type": "code",
   "execution_count": null,
   "id": "4fe78a09-5cc8-46d0-8aa1-9bbddf809cd9",
   "metadata": {},
   "outputs": [],
   "source": [
    "bar_plot(quicksort_times, insertionsort_times, dim)\n",
    "graph_plot(quicksort_times, insertionsort_times, dim)"
   ]
  },
  {
   "cell_type": "markdown",
   "id": "f9df02da-5cc9-4d5f-8916-59140d97eebd",
   "metadata": {},
   "source": [
    "## Conslusioni"
   ]
  }
 ],
 "metadata": {
  "kernelspec": {
   "display_name": "Python [conda env:ASD]",
   "language": "python",
   "name": "conda-env-ASD-py"
  },
  "language_info": {
   "codemirror_mode": {
    "name": "ipython",
    "version": 3
   },
   "file_extension": ".py",
   "mimetype": "text/x-python",
   "name": "python",
   "nbconvert_exporter": "python",
   "pygments_lexer": "ipython3",
   "version": "3.11.4"
  }
 },
 "nbformat": 4,
 "nbformat_minor": 5
}
